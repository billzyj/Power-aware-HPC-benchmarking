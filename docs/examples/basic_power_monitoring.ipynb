{
 "cells": [
  {
   "cell_type": "markdown",
   "metadata": {},
   "source": [
    "# Basic Power Monitoring Tutorial\n",
    "\n",
    "This notebook demonstrates the basic usage of power monitoring features in the Power-aware HPC Benchmarking project.\n",
    "\n",
    "## Contents\n",
    "1. Setup and Installation\n",
    "2. Basic CPU Monitoring\n",
    "3. Basic GPU Monitoring\n",
    "4. Visualizing Results"
   ]
  },
  {
   "cell_type": "markdown",
   "metadata": {},
   "source": [
    "## 1. Setup and Installation\n",
    "\n",
    "First, let's set up our environment and import required packages:"
   ]
  },
  {
   "cell_type": "code",
   "execution_count": 1,
   "metadata": {},
   "outputs": [
    {
     "name": "stdout",
     "output_type": "stream",
     "text": [
      "INFO - Logging initialized. Log file: logs/power_benchmark_20250428_192452.log\n"
     ]
    }
   ],
   "source": [
    "import sys\n",
    "import os\n",
    "import time\n",
    "import logging\n",
    "from pathlib import Path\n",
    "\n",
    "# Add project root to Python path\n",
    "project_root = Path.cwd().parent.parent\n",
    "sys.path.append(str(project_root))\n",
    "\n",
    "# Import project modules\n",
    "from src.power_profiling.utils.logging_config import setup_logging\n",
    "from src.power_profiling.monitors.cpu import CPUMonitor\n",
    "from src.power_profiling.monitors.gpu import GPUMonitor\n",
    "\n",
    "# Setup logging\n",
    "logger = setup_logging(log_level=logging.INFO)"
   ]
  },
  {
   "cell_type": "markdown",
   "metadata": {},
   "source": [
    "## 2. Basic CPU Monitoring\n",
    "\n",
    "Let's start with a simple CPU power monitoring example:"
   ]
  },
  {
   "cell_type": "code",
   "execution_count": 16,
   "metadata": {},
   "outputs": [
    {
     "name": "stdout",
     "output_type": "stream",
     "text": [
      "INFO - Initializing CPUMonitor with sampling_interval=0.1s\n",
      "INFO - Detected CPU power monitoring interface: intel_rapl\n",
      "Starting CPU monitoring...\n",
      "INFO - CPU monitoring started\n",
      "Running CPU-intensive task...\n",
      "INFO - CPU monitoring stopped\n",
      "Collected 13 CPU power readings\n",
      "WARNING - No power data available for statistics\n",
      "{'average': 0.0, 'peak': 0.0, 'min': 0.0, 'total_energy': 0.0}\n"
     ]
    }
   ],
   "source": [
    "def cpu_intensive_task():\n",
    "    \"\"\"A simple CPU-intensive task.\"\"\"\n",
    "    result = 0\n",
    "    for i in range(10**8):\n",
    "        result += i\n",
    "    return result\n",
    "\n",
    "# Create CPU monitor\n",
    "cpu_monitor = CPUMonitor(sampling_interval=0.1)  # 100ms sampling interval\n",
    "\n",
    "# Start monitoring\n",
    "print(\"Starting CPU monitoring...\")\n",
    "cpu_monitor.start()\n",
    "time.sleep(1)  # Wait for the monitor thread to start\n",
    "\n",
    "cpu_monitor.clear()  # Clear any idle/baseline readings\n",
    "# Run CPU task\n",
    "print(\"Running CPU-intensive task...\")\n",
    "result = cpu_intensive_task()\n",
    "\n",
    "# Stop monitoring\n",
    "cpu_data = cpu_monitor.stop()\n",
    "print(f\"Collected {len(cpu_data)} CPU power readings\")\n",
    "\n",
    "# Print all readings\n",
    "for reading in cpu_data:\n",
    "    print(f\"Time: {reading.timestamp}, Power: {reading.power_watts:.2f} W\")\n",
    "\n",
    "# Get statistics\n",
    "stats = cpu_monitor.get_statistics()\n",
    "print(\"\\nCPU Power Statistics:\")\n",
    "print(f\"Average Power: {stats['average']:.2f} W\")\n",
    "print(f\"Peak Power: {stats['peak']:.2f} W\")\n",
    "print(f\"Total Energy: {stats['total_energy']:.2f} J\")"
   ]
  },
  {
   "cell_type": "markdown",
   "metadata": {},
   "source": [
    "## 3. Basic GPU Monitoring\n",
    "\n",
    "Now let's try monitoring GPU power usage (if available):"
   ]
  },
  {
   "cell_type": "code",
   "execution_count": 8,
   "metadata": {},
   "outputs": [
    {
     "name": "stdout",
     "output_type": "stream",
     "text": [
      "GPU monitoring not available: Can't instantiate abstract class GPUMonitor with abstract method _read_power\n"
     ]
    }
   ],
   "source": [
    "try:\n",
    "    # Create GPU monitor\n",
    "    gpu_monitor = GPUMonitor(sampling_interval=0.1)\n",
    "    \n",
    "    # Start monitoring\n",
    "    print(\"Starting GPU monitoring...\")\n",
    "    gpu_monitor.start()\n",
    "    time.sleep(1)  # Wait for the monitor thread to start\n",
    "    \n",
    "    gpu_monitor.clear()  # Clear any idle/baseline readings\n",
    "    \n",
    "    # Simulate GPU workload (sleep for demonstration)\n",
    "    print(\"Simulating GPU workload...\")\n",
    "    time.sleep(5)\n",
    "    \n",
    "    # Stop monitoring\n",
    "    gpu_data = gpu_monitor.stop()\n",
    "    print(f\"Collected {len(gpu_data)} GPU power readings\")\n",
    "    \n",
    "    # Print all readings\n",
    "    for reading in gpu_data:\n",
    "        print(f\"Time: {reading.timestamp}, Power: {reading.power_watts:.2f} W\")\n",
    "    \n",
    "    # Get statistics\n",
    "    stats = gpu_monitor.get_statistics()\n",
    "    print(\"\\nGPU Power Statistics:\")\n",
    "    print(f\"Average Power: {stats['average']:.2f} W\")\n",
    "    print(f\"Peak Power: {stats['peak']:.2f} W\")\n",
    "    print(f\"Total Energy: {stats['total_energy']:.2f} J\")\n",
    "    \n",
    "except Exception as e:\n",
    "    print(f\"GPU monitoring not available: {e}\")"
   ]
  },
  {
   "cell_type": "markdown",
   "metadata": {},
   "source": [
    "## 4. Visualizing Results\n",
    "\n",
    "Let's create some basic visualizations of our power monitoring data:"
   ]
  },
  {
   "cell_type": "code",
   "execution_count": 4,
   "metadata": {},
   "outputs": [
    {
     "data": {
      "image/png": "[encoded data removed]",
      "text/plain": [
       "<Figure size 1000x600 with 1 Axes>"
      ]
     },
     "metadata": {},
     "output_type": "display_data"
    }
   ],
   "source": [
    "import matplotlib.pyplot as plt\n",
    "import numpy as np\n",
    "\n",
    "def plot_power_data(data, title):\n",
    "    if not data:\n",
    "        print(f\"No data available for {title}\")\n",
    "        return\n",
    "        \n",
    "    # Extract timestamps and power readings\n",
    "    timestamps = [reading.timestamp for reading in data]\n",
    "    power_readings = [reading.power_watts for reading in data]\n",
    "    \n",
    "    # Convert timestamps to relative time in seconds\n",
    "    start_time = timestamps[0]\n",
    "    rel_times = [(t - start_time).total_seconds() for t in timestamps]\n",
    "    \n",
    "    # Create plot\n",
    "    plt.figure(figsize=(10, 6))\n",
    "    plt.plot(rel_times, power_readings, '-')\n",
    "    plt.title(f\"{title} Power Over Time\")\n",
    "    plt.xlabel(\"Time (seconds)\")\n",
    "    plt.ylabel(\"Power (Watts)\")\n",
    "    plt.grid(True)\n",
    "    plt.show()\n",
    "\n",
    "# Plot CPU data\n",
    "if 'cpu_data' in locals():\n",
    "    plot_power_data(cpu_data, \"CPU\")\n",
    "\n",
    "# Plot GPU data\n",
    "if 'gpu_data' in locals():\n",
    "    plot_power_data(gpu_data, \"GPU\")"
   ]
  },
  {
   "cell_type": "markdown",
   "metadata": {},
   "source": [
    "## Conclusion\n",
    "\n",
    "This notebook demonstrated basic power monitoring capabilities:\n",
    "- Setting up power monitors\n",
    "- Collecting power readings\n",
    "- Getting basic statistics\n",
    "- Visualizing the results\n",
    "\n",
    "For more advanced features, check out the advanced usage examples notebook."
   ]
  }
 ],
 "metadata": {
  "kernelspec": {
   "display_name": ".venv",
   "language": "python",
   "name": "python3"
  },
  "language_info": {
   "codemirror_mode": {
    "name": "ipython",
    "version": 3
   },
   "file_extension": ".py",
   "mimetype": "text/x-python",
   "name": "python",
   "nbconvert_exporter": "python",
   "pygments_lexer": "ipython3",
   "version": "3.9.21"
  }
 },
 "nbformat": 4,
 "nbformat_minor": 4
}
